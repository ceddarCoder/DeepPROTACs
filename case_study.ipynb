{
 "cells": [
  {
   "cell_type": "code",
   "execution_count": 8,
   "metadata": {},
   "outputs": [],
   "source": [
    "import os\n",
    "import pickle\n",
    "import torch\n",
    "from torch.utils.data import DataLoader\n",
    "from sklearn.metrics import accuracy_score\n",
    "from protacloader import PROTACSet, collater\n",
    "from prepare_data import GraphData\n"
   ]
  },
  {
   "cell_type": "code",
   "execution_count": 9,
   "metadata": {},
   "outputs": [],
   "source": [
    "\n",
    "def valid(model, test_loader, device):\n",
    "    with torch.no_grad():\n",
    "        model.eval()\n",
    "        pred = []\n",
    "        true = []\n",
    "        for data_sample in test_loader:\n",
    "            name = data_sample['name']\n",
    "            y = data_sample['label'].tolist()\n",
    "            true += y\n",
    "            outputs = model(data_sample['ligase_ligand'].to(device),\n",
    "                            data_sample['ligase_pocket'].to(device),\n",
    "                            data_sample['target_ligand'].to(device),\n",
    "                            data_sample['target_pocket'].to(device),\n",
    "                            data_sample['smiles'].to(device),\n",
    "                            data_sample['smiles_length'],)\n",
    "            pred_y = torch.max(outputs,1)[1].cpu().tolist()\n",
    "            pred += pred_y\n",
    "            print(name, y, pred_y)\n",
    "        print(accuracy_score(true, pred))"
   ]
  },
  {
   "cell_type": "code",
   "execution_count": 10,
   "metadata": {},
   "outputs": [],
   "source": [
    "with open('name.pkl','rb') as f:\n",
    "    name_list = pickle.load(f)\n",
    "\n",
    "ligase_ligand = GraphData(\"ligase_ligand\", root='data')\n",
    "ligase_pocket = GraphData(\"ligase_pocket\", root='data')\n",
    "target_ligand = GraphData(\"target_ligand\", root='data')\n",
    "target_pocket = GraphData(\"target_pocket\", root='data')\n",
    "with open(os.path.join(target_pocket.processed_dir, \"smiles.pkl\"),\"rb\") as f:\n",
    "    smiles = pickle.load(f)\n",
    "label = torch.load(os.path.join(target_pocket.processed_dir, \"label.pt\"))"
   ]
  },
  {
   "cell_type": "code",
   "execution_count": 11,
   "metadata": {},
   "outputs": [],
   "source": [
    "test_set = PROTACSet(\n",
    "    name_list,\n",
    "    ligase_ligand, \n",
    "    ligase_pocket,\n",
    "    target_ligand, \n",
    "    target_pocket, \n",
    "    smiles, \n",
    "    label,\n",
    ")\n",
    "\n",
    "testloader = DataLoader(test_set, batch_size=1, collate_fn=collater,drop_last=True)"
   ]
  },
  {
   "cell_type": "code",
   "execution_count": 12,
   "metadata": {},
   "outputs": [
    {
     "name": "stdout",
     "output_type": "stream",
     "text": [
      "['SIAIS208034'] [1] [1]\n",
      "['SIAIS208040'] [0] [1]\n",
      "['SIAIS208037'] [1] [1]\n",
      "['SIAIS208038'] [1] [1]\n",
      "['SIAIS208017'] [1] [1]\n",
      "['SIAIS208033'] [1] [1]\n",
      "['SIAIS208045'] [0] [1]\n",
      "['SIAIS208036'] [1] [1]\n",
      "['SIAIS208039'] [0] [1]\n",
      "['SIAIS208020'] [1] [1]\n",
      "['SIAIS208041'] [1] [1]\n",
      "['SIAIS208032'] [0] [1]\n",
      "['SIAIS208031'] [0] [1]\n",
      "['SIAIS208019'] [1] [1]\n",
      "['SIAIS208035'] [1] [1]\n",
      "['SIAIS208018'] [1] [1]\n",
      "0.6875\n"
     ]
    }
   ],
   "source": [
    "device = torch.device('cuda' if torch.cuda.is_available() else 'cpu')\n",
    "\n",
    "model = torch.load('model/test.pt',map_location=torch.device('cpu'),weights_only=False)\n",
    "\n",
    "valid(model, testloader, device)"
   ]
  },
  {
   "cell_type": "code",
   "execution_count": 13,
   "metadata": {},
   "outputs": [
    {
     "data": {
      "text/plain": [
       "{'name': 'SIAIS208019',\n",
       " 'ligase_ligand': Data(x=[32], edge_index=[2, 68], edge_attr=[68]),\n",
       " 'ligase_pocket': Data(x=[156], edge_index=[2, 316], edge_attr=[316]),\n",
       " 'target_ligand': Data(x=[28], edge_index=[2, 60], edge_attr=[60]),\n",
       " 'target_pocket': Data(x=[194], edge_index=[2, 368], edge_attr=[368]),\n",
       " 'smiles': [1, 1, 4, 1, 1, 4, 1, 1, 4, 1, 1, 4, 1, 1, 1, 3, 4],\n",
       " 'label': 1}"
      ]
     },
     "execution_count": 13,
     "metadata": {},
     "output_type": "execute_result"
    }
   ],
   "source": [
    "test_set[-3]"
   ]
  },
  {
   "cell_type": "code",
   "execution_count": null,
   "metadata": {},
   "outputs": [],
   "source": []
  }
 ],
 "metadata": {
  "kernelspec": {
   "display_name": "Protacs",
   "language": "python",
   "name": "python3"
  },
  "language_info": {
   "codemirror_mode": {
    "name": "ipython",
    "version": 3
   },
   "file_extension": ".py",
   "mimetype": "text/x-python",
   "name": "python",
   "nbconvert_exporter": "python",
   "pygments_lexer": "ipython3",
   "version": "3.10.16"
  }
 },
 "nbformat": 4,
 "nbformat_minor": 2
}
